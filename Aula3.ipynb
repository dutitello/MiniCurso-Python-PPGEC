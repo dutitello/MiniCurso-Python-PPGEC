{
 "cells": [
  {
   "cell_type": "markdown",
   "metadata": {},
   "source": [
    "Universidade Federal do Rio Grande do Sul (UFRGS)   \n",
    "Programa de Pós-Graduação em Engenharia Civil (PPGEC)   \n",
    "\n",
    "\n",
    "# Python aplicado à análise de estruturas\n",
    "## Aula 3: Módulos Básicos - Parte 1\n",
    "\n",
    "[1. Trabalhando com módulos](#section_1)\n",
    "\n",
    "[2. NumPy ](#section_2)\n",
    "\n",
    "[ 2.1. Criação de arrays ](#section_21)\n",
    "\n",
    "[  2.1.1. np.array ](#section_211)\n",
    "\n",
    "[  2.1.2. np.zeros ](#section_212)\n",
    "\n",
    "[  2.1.3. np.ones ](#section_213)\n",
    "\n",
    "[  2.1.4. np.eye ](#section_214)\n",
    "\n",
    "[  2.1.5. np.diag ](#section_215)\n",
    "\n",
    "[  2.1.6. np.linspace ](#section_216)\n",
    "\n",
    "[  2.1.7. Outras formas ](#section_217)\n",
    "\n",
    "[ 2.2. Manipulação de arrays ](#section_22)\n",
    "\n",
    "[  2.2.1. Alteração de elemento ](#section_221)\n",
    "\n",
    "[  2.2.2. Determinação do tamanho e forma ](#section_222)\n",
    "\n",
    "[  2.2.3. Cópia de arrays ](#section_223)\n",
    "\n",
    "[  2.2.4. Transposição de arrays ](#section_224)\n",
    "\n",
    "[ 2.3. Operações e funções matemáticas ](#section_23)\n",
    "\n",
    "[ 2.4. Algebra linear com arrays ](#section_24)\n",
    "\n",
    "[3. SciPy ](#section_3)\n",
    "\n",
    "[ 3.1. Determinação das raízes de uma função ](#section_31)\n",
    "\n",
    "[ 3.2. Determinação de autovalores e autovetores ](#section_32)\n",
    "\n",
    "\n",
    "---\n",
    "\n",
    "_Eng. MSc Eduarto Pagnussat Titello_\n",
    "\n",
    "_Eng. Daniel Barbosa M. Matos_"
   ]
  },
  {
   "cell_type": "markdown",
   "metadata": {},
   "source": [
    "# Trabalhando com módulos <a name=\"section_1\"></a>\n",
    "Módulos são bibliotecas de funções e classes que podem ser facilmente importados e introduzem novas funcionalidades à linguagem. Os principáis módulos para aplicações científicas são:\n",
    "- [NumPy](https://numpy.org/doc/stable/index.html) para operações matriciais;\n",
    "- [SciPy](https://docs.scipy.org/doc/scipy/reference/) para cálculo numérico;\n",
    "- [matplotlib](https://matplotlib.org/users/index.html) para plotagem de gráficos;\n",
    "- [Pandas](https://pandas.pydata.org/docs/user_guide/index.html) para trabalho com séries de dados.\n",
    "\n",
    "Além desses, diversos outros módulos criados pela comunidade estão disponíveis nos repositórios do [PyPi](https://pypi.org/) e do [Anaconda](https://anaconda.org/anaconda/repo). A criação de módulos pelo usuário pode ser realizada de forma simplificada inserindo todas as funções e variáveis de interesse em um arquivo `.py` (ou em uma pasta) no diretório de trabalho. \n",
    "\n",
    "A utilização de módulos requer sua importação através do comando `import`, o código a seguir realiza a importação do módulo `scipy` e solicita ao Python o tipo de `scipy`."
   ]
  },
  {
   "cell_type": "code",
   "execution_count": 1,
   "metadata": {},
   "outputs": [
    {
     "name": "stdout",
     "output_type": "stream",
     "text": [
      "<class 'module'>\n"
     ]
    }
   ],
   "source": [
    "import scipy\n",
    "print(type(scipy))"
   ]
  },
  {
   "cell_type": "markdown",
   "metadata": {},
   "source": [
    "A importação de módulos pelo comando `import` mantem um vínculo entre o conteúdo importado e o nome do módulo, dessa forma todas suas funções devem ser chamadas na forma `modulo.funcao(...)` onde `funcao(...)` é a função de interesse que pertence ao módulo. \n",
    "\n",
    "A importação de módulos pode ainda ser realizada na forma \"importar como\", onde é criado um \"apelido\" para o módulo, através da sintaxe `import modulo as apelido`. A seguir é importado o módulo `numpy` com o \"apelido\" `np` e é printando o tipo de `np`."
   ]
  },
  {
   "cell_type": "code",
   "execution_count": 2,
   "metadata": {},
   "outputs": [
    {
     "name": "stdout",
     "output_type": "stream",
     "text": [
      "<class 'module'>\n"
     ]
    }
   ],
   "source": [
    "import numpy as np\n",
    "print(type(np))"
   ]
  },
  {
   "cell_type": "markdown",
   "metadata": {},
   "source": [
    "Existem ainda módulos internos à outros módulos, sua importação é realizada na forma `import modulo.submodulo`. Um exemplo de submódulo é o `pyplot` que pertence ao módulo `matplotlib`, usualmente sua importação é realizada com o \"apelido\" `plt`, dessa forma:"
   ]
  },
  {
   "cell_type": "code",
   "execution_count": 3,
   "metadata": {},
   "outputs": [],
   "source": [
    "import matplotlib.pyplot as plt"
   ]
  },
  {
   "cell_type": "markdown",
   "metadata": {},
   "source": [
    "A importação de módulos pode ainda ser realizada sem a manutenção de vínculo entre o nome do módulo e a função através da sintaxe `from modulo import funcao`, entretanto tal prática não é recomendada na presença de diferentes módulos. "
   ]
  },
  {
   "cell_type": "markdown",
   "metadata": {},
   "source": [
    "# NumPy <a name=\"section_2\"></a>\n",
    "O NumPy é o principal módulo para operação de matrizes e similares em Python. Sua base são arrays representadas através do objeto `ndarray` que é basicamente uma tabela de dimensão `n`, podendo assim representar escalares, vetores, matrizes e outros elementos de ordem superior.\n",
    "\n",
    "Usualmente o NumPy é importado como `np`, conforme realizado anteriormente (`import numpy as np`)."
   ]
  },
  {
   "cell_type": "markdown",
   "metadata": {},
   "source": [
    "## Criação de arrays <a name=\"section_21\"><a>\n",
    "    \n",
    "Arrays do NumPy podem ser criadas de diversas maneiras. \n",
    "\n",
    "### np.array <a name=\"section_211\"><a>\n",
    "    \n",
    "Arrays podem ser criadas a partir de listas e tuplas com a função `np.array(lista)`. Ao passar uma lista de valores para a função um vetor é gerado, uma lista de listas produz uma matriz e etc.  \n",
    "\n",
    "Como exemplo vamos criar e printar 3 listas: `l1`, `l2` e `l3`, onde `l3` é uma lista de listas formada pelas outras duas."
   ]
  },
  {
   "cell_type": "code",
   "execution_count": 6,
   "metadata": {},
   "outputs": [
    {
     "name": "stdout",
     "output_type": "stream",
     "text": [
      "l1: [1, 3, 5]\n",
      "l2: [20, 30, 40]\n",
      "l3: [[1, 3, 5], [20, 30, 40]]\n"
     ]
    }
   ],
   "source": [
    "l1 = [1,3,5]\n",
    "l2 = [20,30,40]\n",
    "l3 = [l1, l2]\n",
    "\n",
    "print('l1:', l1)\n",
    "print('l2:', l2)\n",
    "print('l3:', l3)"
   ]
  },
  {
   "cell_type": "markdown",
   "metadata": {},
   "source": [
    "Tranformando as três listas em arrays temos 2 vetores (`v1` e `v2`) e uma matriz (`m1`):"
   ]
  },
  {
   "cell_type": "code",
   "execution_count": 7,
   "metadata": {},
   "outputs": [
    {
     "name": "stdout",
     "output_type": "stream",
     "text": [
      "v1:\n",
      " [1 3 5]\n",
      "v2:\n",
      " [20 30 40]\n",
      "m1:\n",
      " [[ 1  3  5]\n",
      " [20 30 40]]\n"
     ]
    }
   ],
   "source": [
    "v1 = np.array(l1)\n",
    "v2 = np.array(l2)\n",
    "m1 = np.array(l3)\n",
    "\n",
    "print('v1:\\n', v1)\n",
    "print('v2:\\n', v2)\n",
    "print('m1:\\n', m1)"
   ]
  },
  {
   "cell_type": "markdown",
   "metadata": {},
   "source": [
    "Os termos dos vetores e da matriz gerada podem ser acessados como os itens de listas, tuplas e dicionários:"
   ]
  },
  {
   "cell_type": "code",
   "execution_count": 8,
   "metadata": {},
   "outputs": [
    {
     "name": "stdout",
     "output_type": "stream",
     "text": [
      "Primeiro termo de v2: 20\n",
      "Último termo da segunda linha de m1: 40\n"
     ]
    }
   ],
   "source": [
    "print('Primeiro termo de v2:', v2[0])\n",
    "print('Último termo da segunda linha de m1:', m1[1,-1])"
   ]
  },
  {
   "cell_type": "markdown",
   "metadata": {},
   "source": [
    "Linhas e colunas inteiras ou parte dessas também podem ser acessadss:"
   ]
  },
  {
   "cell_type": "code",
   "execution_count": 9,
   "metadata": {},
   "outputs": [
    {
     "name": "stdout",
     "output_type": "stream",
     "text": [
      "Primeira linha completa de m1: [1 3 5]\n",
      "Última coluna de m1: [ 5 40]\n"
     ]
    }
   ],
   "source": [
    "print('Primeira linha completa de m1:', m1[0,:])\n",
    "print('Última coluna de m1:', m1[:,2])"
   ]
  },
  {
   "cell_type": "markdown",
   "metadata": {},
   "source": [
    "### np.zeros <a name=\"section_212\"><a>\n",
    "Arrays de zeros podem ser criadas através da função `np.zeros(dims)` fornecendo as dimensões desejadas em uma lista ou tupla de dimensões, por exemplo:\n",
    "\n",
    "Para um vetor de tamanho 5:"
   ]
  },
  {
   "cell_type": "code",
   "execution_count": 11,
   "metadata": {},
   "outputs": [
    {
     "name": "stdout",
     "output_type": "stream",
     "text": [
      "[0. 0. 0. 0. 0.]\n"
     ]
    }
   ],
   "source": [
    "v_zeros1 = np.zeros([5])\n",
    "print(v_zeros1)"
   ]
  },
  {
   "cell_type": "markdown",
   "metadata": {},
   "source": [
    "Para uma matriz de 3 linhas 4 colunas:"
   ]
  },
  {
   "cell_type": "code",
   "execution_count": 13,
   "metadata": {},
   "outputs": [
    {
     "name": "stdout",
     "output_type": "stream",
     "text": [
      "[[0. 0. 0. 0.]\n",
      " [0. 0. 0. 0.]\n",
      " [0. 0. 0. 0.]]\n"
     ]
    }
   ],
   "source": [
    "m_zeros1 = np.zeros([3,4])\n",
    "print(m_zeros1)"
   ]
  },
  {
   "cell_type": "markdown",
   "metadata": {},
   "source": [
    "### np.ones <a name=\"section_213\"><a>\n",
    "Arrays unitários podem ser criados através da função `np.ones(dims)` forncendo as dimensões como em `np.zeros(dims)`.\n",
    "\n",
    "Para uma matriz 3x4:"
   ]
  },
  {
   "cell_type": "code",
   "execution_count": 14,
   "metadata": {},
   "outputs": [
    {
     "name": "stdout",
     "output_type": "stream",
     "text": [
      "[[1. 1. 1. 1.]\n",
      " [1. 1. 1. 1.]\n",
      " [1. 1. 1. 1.]]\n"
     ]
    }
   ],
   "source": [
    "m_ones1 = np.ones((3,4))\n",
    "print(m_ones1)"
   ]
  },
  {
   "cell_type": "markdown",
   "metadata": {},
   "source": [
    "Essa função pode ser usada para outros valores, como um vetor onde todos termos são 25:"
   ]
  },
  {
   "cell_type": "code",
   "execution_count": 16,
   "metadata": {},
   "outputs": [
    {
     "name": "stdout",
     "output_type": "stream",
     "text": [
      "[25. 25. 25. 25. 25. 25.]\n"
     ]
    }
   ],
   "source": [
    "v_25s = 25*np.ones((6))\n",
    "print(v_25s)"
   ]
  },
  {
   "cell_type": "markdown",
   "metadata": {},
   "source": [
    "### np.eye <a name=\"section_214\"><a>\n",
    "\n",
    "Matrizes identidade podem ser criadas através da funcão `np.eye(dim1,dim2)` passando as dimensões da matriz, caso apenas uma dimensão seja informada será gerada uma matriz quadrada. \n",
    "\n",
    "Para gerar uma matriz identidade 4x4:"
   ]
  },
  {
   "cell_type": "code",
   "execution_count": 39,
   "metadata": {},
   "outputs": [
    {
     "name": "stdout",
     "output_type": "stream",
     "text": [
      "[[1. 0. 0. 0.]\n",
      " [0. 1. 0. 0.]\n",
      " [0. 0. 1. 0.]\n",
      " [0. 0. 0. 1.]]\n"
     ]
    }
   ],
   "source": [
    "m_id4 = np.eye(4)\n",
    "print(m_id4)"
   ]
  },
  {
   "cell_type": "markdown",
   "metadata": {},
   "source": [
    "Para uma matriz identidade 3x6"
   ]
  },
  {
   "cell_type": "code",
   "execution_count": 40,
   "metadata": {},
   "outputs": [
    {
     "name": "stdout",
     "output_type": "stream",
     "text": [
      "[[1. 0. 0. 0. 0. 0.]\n",
      " [0. 1. 0. 0. 0. 0.]\n",
      " [0. 0. 1. 0. 0. 0.]\n",
      " [0. 0. 0. 1. 0. 0.]]\n"
     ]
    }
   ],
   "source": [
    "m_id46 = np.eye(4,6)\n",
    "print(m_id46)"
   ]
  },
  {
   "cell_type": "markdown",
   "metadata": {},
   "source": [
    "### np.diag <a name=\"section_215\"><a>\n",
    "A função `np.diag(array)` ao receber uma matriz como entrada retorna um vetor com os termos da sua diagonal, o inverso também é valido, ao receber um vetor a função retorna uma matriz com os termos do vetor na diagonal. \n",
    "\n",
    "Criando uma matriz 3x3 e extraindo sua diagoal:"
   ]
  },
  {
   "cell_type": "code",
   "execution_count": 17,
   "metadata": {},
   "outputs": [
    {
     "name": "stdout",
     "output_type": "stream",
     "text": [
      "[1 5 9]\n"
     ]
    }
   ],
   "source": [
    "m3 = np.array([[1,2,3],\n",
    "               [4,5,6],\n",
    "               [7,8,9]])\n",
    "diag = np.diag(m3)\n",
    "print(diag)"
   ]
  },
  {
   "cell_type": "markdown",
   "metadata": {},
   "source": [
    "Ok! A função retornou os termos da diagonal, vamos agora construir uma matriz com base nesse vetor:"
   ]
  },
  {
   "cell_type": "code",
   "execution_count": 19,
   "metadata": {},
   "outputs": [
    {
     "name": "stdout",
     "output_type": "stream",
     "text": [
      "[[1 0 0]\n",
      " [0 5 0]\n",
      " [0 0 9]]\n"
     ]
    }
   ],
   "source": [
    "m4 = np.diag(diag)\n",
    "print(m4)"
   ]
  },
  {
   "cell_type": "markdown",
   "metadata": {},
   "source": [
    "A matriz gerada contem apenas termos na diagonal."
   ]
  },
  {
   "cell_type": "markdown",
   "metadata": {},
   "source": [
    "### np.linspace <a name=\"section_216\"><a>\n",
    "A função `np.linspace(inicio, fim, nptos)` cria um vetor de `nptos` igualmente espaçados no intervalo `[inicio, fim]`. \n",
    "\n",
    "Criando 10 valores de 1 a 10:"
   ]
  },
  {
   "cell_type": "code",
   "execution_count": 43,
   "metadata": {},
   "outputs": [
    {
     "name": "stdout",
     "output_type": "stream",
     "text": [
      "[ 1.  2.  3.  4.  5.  6.  7.  8.  9. 10.]\n"
     ]
    }
   ],
   "source": [
    "v1_10 = np.linspace(1, 10, 10)\n",
    "print(v1_10)"
   ]
  },
  {
   "cell_type": "markdown",
   "metadata": {},
   "source": [
    "Criando 12 valores entre 5 e 40:"
   ]
  },
  {
   "cell_type": "code",
   "execution_count": 44,
   "metadata": {},
   "outputs": [
    {
     "name": "stdout",
     "output_type": "stream",
     "text": [
      "[ 5.          8.18181818 11.36363636 14.54545455 17.72727273 20.90909091\n",
      " 24.09090909 27.27272727 30.45454545 33.63636364 36.81818182 40.        ]\n"
     ]
    }
   ],
   "source": [
    "v5_40 = np.linspace(5, 40, 12)\n",
    "print(v5_40)"
   ]
  },
  {
   "cell_type": "markdown",
   "metadata": {},
   "source": [
    "### Outras formas <a name=\"section_217\"><a>\n",
    "Existem ainda diversas outras funções para criação de arrays no NumPy, essas podem ser acessadas [aqui](https://numpy.org/doc/stable/reference/routines.array-creation.html)."
   ]
  },
  {
   "cell_type": "markdown",
   "metadata": {},
   "source": [
    "## Manipulação de arrays <a name='section_3'></a>\n",
    "Arrays podem ser modificadas, empilhadas, operadas matricialmente e etc.\n",
    "\n",
    "### Alteração de elemento <a name='section_31'></a>\n",
    "A alteração de um elemento de um array pode ser realizada como a alteração de um elemento de uma lista. Adotando a matriz diagonal `m4` criada anteriormente podemos alterar o termo da terceira coluna e primeira linha por:"
   ]
  },
  {
   "cell_type": "code",
   "execution_count": 45,
   "metadata": {},
   "outputs": [
    {
     "name": "stdout",
     "output_type": "stream",
     "text": [
      "[[ 1  0 99]\n",
      " [ 0  5  0]\n",
      " [ 0  0  9]]\n"
     ]
    }
   ],
   "source": [
    "m4[0, 2] = 99\n",
    "print(m4)"
   ]
  },
  {
   "cell_type": "markdown",
   "metadata": {},
   "source": [
    "lembrando que os índices em Python iniciam em `0`, dessa forma a primeira linha é a linha `0` e a terceira coluna é a coluna `2`.\n",
    "\n",
    "Toda uma linha ou coluna pode ser alterada, usando `:` para sinalizar todos seus elementos. A seguir vamos definir todos elementos da primeira coluna de `m4` como `-1`. "
   ]
  },
  {
   "cell_type": "code",
   "execution_count": 46,
   "metadata": {},
   "outputs": [
    {
     "name": "stdout",
     "output_type": "stream",
     "text": [
      "[[-1  0 99]\n",
      " [-1  5  0]\n",
      " [-1  0  9]]\n"
     ]
    }
   ],
   "source": [
    "m4[:,0] = -1\n",
    "print(m4)"
   ]
  },
  {
   "cell_type": "markdown",
   "metadata": {},
   "source": [
    "### Determinação do tamanho e forma <a name='section_32'></a>\n",
    "O tamanho e a forma de arrays podem ser determinados pelos comandos `size` e `shape`, respectivamente, onde ambos podem ser acessados tanto através da biblioteca principal (`np.size(array)` e `np.shape(array)`) como através do próprio elemento (`array.size`, `array.shape`), onde `array` é uma array genérica. Adotando a array `m4` vamos plotar sua forma e tamanho pelos dois métodos apresentados:"
   ]
  },
  {
   "cell_type": "code",
   "execution_count": 20,
   "metadata": {},
   "outputs": [
    {
     "name": "stdout",
     "output_type": "stream",
     "text": [
      "Forma de m4\n",
      "(3, 3)\n",
      "(3, 3)\n",
      "Tamanho de m4\n",
      "9\n",
      "9\n"
     ]
    }
   ],
   "source": [
    "print('Forma de m4')\n",
    "print(np.shape(m4))\n",
    "print(m4.shape)\n",
    "print('Tamanho de m4')\n",
    "print(np.size(m4))\n",
    "print(m4.size)"
   ]
  },
  {
   "cell_type": "markdown",
   "metadata": {},
   "source": [
    "Como resultado para a forma de `m4` obtivemos `(3,3)`, o que significa que a array `m4` tem 3 linhas e 3 colunas. Já o tamanho de `m4` encontrado é `9`, ou seja, `m4` tem 9 elementos (`3x3=9`). Vamos printar agora os tamanhos e formas de outros vetores e matrizes:"
   ]
  },
  {
   "cell_type": "code",
   "execution_count": 48,
   "metadata": {},
   "outputs": [
    {
     "name": "stdout",
     "output_type": "stream",
     "text": [
      "Forma e tamanho de m_id46\n",
      "24\n",
      "(4, 6)\n",
      "Forma e tamanho de v1_10\n",
      "10\n",
      "(10,)\n"
     ]
    }
   ],
   "source": [
    "print('Forma e tamanho de m_id46')\n",
    "print(m_id46.size)\n",
    "print(m_id46.shape)\n",
    "\n",
    "print('Forma e tamanho de v1_10')\n",
    "print(v1_10.size)\n",
    "print(v1_10.shape)"
   ]
  },
  {
   "cell_type": "markdown",
   "metadata": {},
   "source": [
    "### Cópia de arrays <a name='section_33'></a>\n",
    "A realização de cópias de arrays deve ser feita através do comando `np.copy()` ou do método `array.copy()`, visto que uma simples atribuição `arrayA=arrayB` faz uma conexão de memória que poderá ocasionar em erros futuros."
   ]
  },
  {
   "cell_type": "code",
   "execution_count": 49,
   "metadata": {},
   "outputs": [
    {
     "name": "stdout",
     "output_type": "stream",
     "text": [
      "m4 original:\n",
      " [[-1  0 99]\n",
      " [-1  5  0]\n",
      " [-1  0  9]]\n",
      "m4:\n",
      " [[ -1   0  99]\n",
      " [ -1 666   0]\n",
      " [ -1   0   9]]\n",
      "A:\n",
      " [[ -1   0  99]\n",
      " [ -1 666   0]\n",
      " [ -1   0   9]]\n",
      "B:\n",
      " [[ -1   0  99]\n",
      " [ -1 999   0]\n",
      " [ -1   0   9]]\n"
     ]
    }
   ],
   "source": [
    "print('m4 original:\\n', m4)\n",
    "A = m4\n",
    "B = m4.copy() #ou B=np.copy(m4)\n",
    "A[1,1] = 666\n",
    "B[1,1] = 999\n",
    "print('m4:\\n', m4)\n",
    "print('A:\\n', A)\n",
    "print('B:\\n', B)"
   ]
  },
  {
   "cell_type": "code",
   "execution_count": 50,
   "metadata": {},
   "outputs": [
    {
     "name": "stdout",
     "output_type": "stream",
     "text": [
      "True\n",
      "False\n"
     ]
    }
   ],
   "source": [
    "print(A is m4)\n",
    "print(B is m4)"
   ]
  },
  {
   "cell_type": "markdown",
   "metadata": {},
   "source": [
    "### Transposição de arrays <a name='section_34'></a>\n",
    "O transposto de uma array é obtida adicionando `.T` à sua chamada. No caso de vetores o resultado é indiferente. Como exemplo vamos transpor a matriz `m_id46` e o vetor `v1_10`. "
   ]
  },
  {
   "cell_type": "code",
   "execution_count": 79,
   "metadata": {},
   "outputs": [
    {
     "name": "stdout",
     "output_type": "stream",
     "text": [
      "(4, 6)\n",
      "(6, 4)\n",
      "(10,)\n",
      "(10,)\n"
     ]
    }
   ],
   "source": [
    "print(m_id46.shape)\n",
    "print(m_id46.T.shape)\n",
    "\n",
    "print(v1_10.shape)\n",
    "print(v1_10.T.shape)"
   ]
  },
  {
   "cell_type": "markdown",
   "metadata": {},
   "source": [
    "## Operações e funções matemáticas <a name='section_23'></a>\n",
    "\n",
    "O módulo Numpy possui uma série de funções e constantes matemáticas, como:\n",
    "\n",
    "* np.exp(): função exponencial;\n",
    "\n",
    "* np.sin(), np.cos(), np.tan(), etc : funções trigonométricas;\n",
    "\n",
    "* np.sqrt() : realiza a raiz quadrada;\n",
    "\n",
    "* np.pi: $\\pi$;\n",
    "\n",
    "* np.log(): logarítmo natural;\n",
    "\n",
    "* np.log10(): logarítmo na base 10."
   ]
  },
  {
   "cell_type": "markdown",
   "metadata": {},
   "source": [
    "Diferentemente das listas, as arrays do NumPy são operadas termo a termo, dessa forma as funções anteriores possuem a mesma propriedade. Vamos então ilustrar calculando a expressão a seguir para valores de x de 0 à 10. $$y(x) = \\exp^{5x-10}\\sin(3\\pi+\\sqrt{4x})$$"
   ]
  },
  {
   "cell_type": "code",
   "execution_count": 21,
   "metadata": {
    "scrolled": true
   },
   "outputs": [
    {
     "name": "stdout",
     "output_type": "stream",
     "text": [
      "[ 0.    0.25  0.5   0.75  1.    1.25  1.5   1.75  2.    2.25  2.5   2.75\n",
      "  3.    3.25  3.5   3.75  4.    4.25  4.5   4.75  5.    5.25  5.5   5.75\n",
      "  6.    6.25  6.5   6.75  7.    7.25  7.5   7.75  8.    8.25  8.5   8.75\n",
      "  9.    9.25  9.5   9.75 10.  ]\n"
     ]
    }
   ],
   "source": [
    "x = np.linspace(0,10,41) # 41 valores resulta em valores a cada 0.25\n",
    "print(x)"
   ]
  },
  {
   "cell_type": "code",
   "execution_count": 69,
   "metadata": {},
   "outputs": [
    {
     "name": "stdout",
     "output_type": "stream",
     "text": [
      "[ 1.66796636e-20 -1.33340607e-04 -5.46317906e-04 -1.90540967e-03\n",
      " -6.12679787e-03 -1.85025661e-02 -5.23831686e-02 -1.36310914e-01\n",
      " -3.08071742e-01 -4.92557226e-01  2.51976998e-01  7.40461201e+00\n",
      "  4.70391298e+01  2.31806467e+02  1.02099414e+03  4.21494202e+03\n",
      "  1.66696843e+04  6.39132894e+04  2.39271597e+05  8.78680102e+05\n",
      "  3.17512400e+06  1.13139890e+07  3.98151706e+07  1.38518524e+08\n",
      "  4.76743911e+08  1.62383558e+09  5.47423593e+09  1.82625012e+10\n",
      "  6.02643613e+10  1.96557493e+11  6.32895323e+11  2.00829404e+12\n",
      "  6.26415699e+12  1.91329134e+13  5.68889302e+13  1.63091288e+14\n",
      "  4.43156739e+14  1.10207358e+15  2.28945992e+15  2.57468835e+15\n",
      " -9.73511413e+15]\n"
     ]
    }
   ],
   "source": [
    "y = np.exp(+5*x-10)*np.sin(3*np.pi+np.sqrt(4*x))\n",
    "print(y)"
   ]
  },
  {
   "cell_type": "markdown",
   "metadata": {},
   "source": [
    "## Algebra linear com arrays <a name='section_24'></a>\n",
    "\n",
    "Arrays podem representar vetores e matrizes, todavia a multiplicação de uma array `x` por ela mesma `x*x` resulta em uma operação termo a termo. A multiplicação matricial da array `x` por ela mesma é realizada pela função `np.dot(x,x)` ou `x.dot(x)`. Cabe lembrar que no caso de matrizes o número de colunas de primeira matriz (`n x j`) deve ser igual o número de linhas da segunda matriz (`j x m`), que podem ser acessados por `np.shape()`, resultando em uma matriz `n x m`. Já no caso de vetores esses devem ter o mesmo comprimento, não havendo diferença entre vetores linha e vetores coluna. \n",
    "\n",
    "Adotando duas matrizes `X1(4,2)` e `X2(2,6)` temos que:"
   ]
  },
  {
   "cell_type": "code",
   "execution_count": 45,
   "metadata": {},
   "outputs": [
    {
     "name": "stdout",
     "output_type": "stream",
     "text": [
      "X1:\n",
      " [[7 8]\n",
      " [9 4]\n",
      " [0 2]\n",
      " [0 7]]\n",
      "X2:\n",
      " [[6 9 6 1]\n",
      " [7 2 4 9]]\n",
      "X3:\n",
      " [[98 79 74 79]\n",
      " [82 89 70 45]\n",
      " [14  4  8 18]\n",
      " [49 14 28 63]]\n"
     ]
    }
   ],
   "source": [
    "np.random.seed(8198916)\n",
    "X1 = np.random.randint(0, 10, (4,2)) # Gera número inteiros aleatórios entre 0 e 10\n",
    "X2 = np.random.randint(0, 10, (2,4))\n",
    "print('X1:\\n', X1)\n",
    "print('X2:\\n', X2)\n",
    "\n",
    "X3 = X1.dot(X2)\n",
    "print('X3:\\n', X3)"
   ]
  },
  {
   "cell_type": "markdown",
   "metadata": {},
   "source": [
    "O submódulo `numpy.linalg` oferece várias operações matriciais, como a inversão da matriz (`np.linalg.inv(array)`) e o cálculo do determinante (`np.linalg.det(array)`). "
   ]
  },
  {
   "cell_type": "code",
   "execution_count": 46,
   "metadata": {},
   "outputs": [
    {
     "name": "stdout",
     "output_type": "stream",
     "text": [
      "[[ 1.22583439e+14 -9.53426749e+13  3.96446149e+13 -9.69408634e+13]\n",
      " [-4.03602217e+13  3.13912835e+13  1.09115720e+15 -2.83571108e+14]\n",
      " [-5.14592826e+13  4.00238865e+13 -1.76129431e+15  5.39166763e+14]\n",
      " [-6.35029445e+13  4.93911791e+13  5.09483394e+14 -1.01215421e+14]]\n",
      "-2.3271643223052853e-26\n"
     ]
    }
   ],
   "source": [
    "print(np.linalg.inv(X3))\n",
    "print(np.linalg.det(X3))"
   ]
  },
  {
   "cell_type": "markdown",
   "metadata": {},
   "source": [
    "É possível, também, solucionar sistemas pela forma matricial, sendo necessário apenas o conhecimento da matriz de coeficientes e o vetor resposta. Vamos utilizar o exemplo abaixo:\n",
    "\\begin{align}\n",
    "\\begin{bmatrix}\n",
    "5&2&1\\\\\n",
    "2&5&2\\\\\n",
    "3&-2&4\n",
    "\\end{bmatrix}\n",
    "\\begin{bmatrix}\n",
    "x\\\\\n",
    "y\\\\\n",
    "z\n",
    "\\end{bmatrix}\n",
    "=\n",
    "\\begin{bmatrix}\n",
    "63\\\\\n",
    "18\\\\\n",
    "11\n",
    "\\end{bmatrix}\n",
    "\\end{align} \n",
    "\n",
    "Utilizando a função `np.linalg.solve(A, b)`, é possível solucionar o sistema."
   ]
  },
  {
   "cell_type": "code",
   "execution_count": 53,
   "metadata": {},
   "outputs": [
    {
     "name": "stdout",
     "output_type": "stream",
     "text": [
      "[1. 2. 3.]\n"
     ]
    }
   ],
   "source": [
    "A = np.array([[5, 2, 18],\n",
    "              [2, 5, 2],\n",
    "              [3,-2, 4]])\n",
    "\n",
    "b = np.array([63, 18, 11])\n",
    "\n",
    "x = np.linalg.solve(A, b)\n",
    "print(x)"
   ]
  },
  {
   "cell_type": "markdown",
   "metadata": {},
   "source": [
    "# SciPy <a name=\"section_3\"></a>\n",
    "\n",
    "A Scipy é um módulo eficiente para a realização de procedimentos numéricos, como integração numérica, interpolação, otimização, problemas da algebra linear e problemas de estatística. O módulo pode ser importando por `import scipy as sc`.\n"
   ]
  },
  {
   "cell_type": "code",
   "execution_count": 55,
   "metadata": {},
   "outputs": [],
   "source": [
    "import scipy as sc\n",
    "import scipy.optimize as opt\n",
    "import scipy.linalg as lin"
   ]
  },
  {
   "cell_type": "markdown",
   "metadata": {},
   "source": [
    "## Determinação das raízes de uma função <a name=\"section_31\"></a>\n",
    "\n",
    "Para determinar a raiz de uma função pelo método de Newton-Raphson, utiliza-se a função `sc.optimize.newton()`."
   ]
  },
  {
   "cell_type": "code",
   "execution_count": 64,
   "metadata": {},
   "outputs": [
    {
     "name": "stdout",
     "output_type": "stream",
     "text": [
      "-1.0000000000000004\n"
     ]
    }
   ],
   "source": [
    "def func(x, a, b, c):\n",
    "    return a*x**2 + b*x + c\n",
    "res = opt.newton(func, args=[-1, 2, 3], x0=0)\n",
    "print(res)"
   ]
  },
  {
   "cell_type": "markdown",
   "metadata": {},
   "source": [
    "## Determinação de autovalores e autovetores <a name=\"section_32\"></a>\n",
    "\n",
    "Para determinar os autovalores e autovetores de uma matriz é utilizada a função `scipy.linalg.eig(array)`. Essa função retorna 2 arrays, o primeiro contendo o vetor de autovalores e o segundo a matriz de autovetores, denominados no exemplo a seguir como `w` e `phi`."
   ]
  },
  {
   "cell_type": "code",
   "execution_count": 67,
   "metadata": {},
   "outputs": [
    {
     "name": "stdout",
     "output_type": "stream",
     "text": [
      "[[-0.78895194 -0.38560276 -0.12196812 -0.70612365]\n",
      " [ 0.37413673 -0.31857084 -0.7338288  -0.63176069]\n",
      " [ 0.15047878  0.86580853  0.18359493 -0.087854  ]\n",
      " [ 0.46360833 -0.01409701  0.64258227 -0.30748901]]\n",
      "[-1.45112789e-14+0.j -6.96947394e-17+0.j  4.57113453e+01+0.j\n",
      "  2.12288655e+02+0.j]\n"
     ]
    }
   ],
   "source": [
    "w, phi = lin.eig(X3)\n",
    "\n",
    "# Garantindo que os autovetores e autovalores estejam em ordem crescente\n",
    "iw = w.argsort()                     \n",
    "w  = w[iw]\n",
    "phi = phi[:, iw]\n",
    "print(phi)\n",
    "print(w)"
   ]
  },
  {
   "cell_type": "code",
   "execution_count": null,
   "metadata": {},
   "outputs": [],
   "source": []
  }
 ],
 "metadata": {
  "kernelspec": {
   "display_name": "Python 3",
   "language": "python",
   "name": "python3"
  },
  "language_info": {
   "codemirror_mode": {
    "name": "ipython",
    "version": 3
   },
   "file_extension": ".py",
   "mimetype": "text/x-python",
   "name": "python",
   "nbconvert_exporter": "python",
   "pygments_lexer": "ipython3",
   "version": "3.7.9"
  }
 },
 "nbformat": 4,
 "nbformat_minor": 4
}