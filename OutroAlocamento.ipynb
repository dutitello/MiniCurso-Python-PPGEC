{
 "cells": [
  {
   "cell_type": "markdown",
   "metadata": {},
   "source": [
    "Vamos começar criando uma matriz `a` 4x4 onde os elementos são `ij` (linha `i`, coluna `j`)"
   ]
  },
  {
   "cell_type": "code",
   "execution_count": 1,
   "metadata": {
    "scrolled": true
   },
   "outputs": [
    {
     "name": "stdout",
     "output_type": "stream",
     "text": [
      "[[ 0  1  2  3]\n",
      " [10 11 12 13]\n",
      " [20 21 22 23]\n",
      " [30 31 32 33]]\n"
     ]
    }
   ],
   "source": [
    "import numpy as np\n",
    "a = np.array([[ 0, 1, 2, 3],\n",
    "              [10,11,12,13],\n",
    "              [20,21,22,23],\n",
    "              [30,31,32,33]])\n",
    "print(a)"
   ]
  },
  {
   "cell_type": "markdown",
   "metadata": {},
   "source": [
    "Chamando `a` por apenas um elemento recebemos toda a linha que foi informada:"
   ]
  },
  {
   "cell_type": "code",
   "execution_count": 2,
   "metadata": {},
   "outputs": [
    {
     "data": {
      "text/plain": [
       "array([0, 1, 2, 3])"
      ]
     },
     "execution_count": 2,
     "metadata": {},
     "output_type": "execute_result"
    }
   ],
   "source": [
    "a[0]"
   ]
  },
  {
   "cell_type": "markdown",
   "metadata": {},
   "source": [
    "Passando dois valores recebemos o valor na respectiva linha e coluna:"
   ]
  },
  {
   "cell_type": "code",
   "execution_count": 3,
   "metadata": {},
   "outputs": [
    {
     "data": {
      "text/plain": [
       "12"
      ]
     },
     "execution_count": 3,
     "metadata": {},
     "output_type": "execute_result"
    }
   ],
   "source": [
    "a[1,2]"
   ]
  },
  {
   "cell_type": "markdown",
   "metadata": {},
   "source": [
    "Mas ainda podemos passar listas de elementos, como uma lista de linhas:"
   ]
  },
  {
   "cell_type": "code",
   "execution_count": 4,
   "metadata": {},
   "outputs": [
    {
     "data": {
      "text/plain": [
       "array([[ 0,  1,  2,  3],\n",
       "       [20, 21, 22, 23]])"
      ]
     },
     "execution_count": 4,
     "metadata": {},
     "output_type": "execute_result"
    }
   ],
   "source": [
    "a[[0,2]]"
   ]
  },
  {
   "cell_type": "markdown",
   "metadata": {},
   "source": [
    "Ok, recebemos as linhas que informamos completas. \n",
    "\n",
    "Vamos agora passar uma lista de linhas e uma lista de colunas:"
   ]
  },
  {
   "cell_type": "code",
   "execution_count": 5,
   "metadata": {
    "scrolled": true
   },
   "outputs": [
    {
     "data": {
      "text/plain": [
       "array([ 1, 23])"
      ]
     },
     "execution_count": 5,
     "metadata": {},
     "output_type": "execute_result"
    }
   ],
   "source": [
    "a[[0,2], [1,3]]"
   ]
  },
  {
   "cell_type": "markdown",
   "metadata": {},
   "source": [
    "Como retorno recebemos os elementos `[0,1]` e `[2,3]`, ou seja, as linhas e colunas foram relacionadas pelos índices das listas. Semelhante ao que teriamos plotando um gráfico 2D, para cada `x(i)` temos um único `y(i)`. \n",
    "\n",
    "No nosso caso temos algo semelhante à um gráfico 3D, onde `x` e `y` são as linhas e colunas da matriz, enquanto `z(x,y)` é o elemento `[x,y]`. Para aplicarmos isso nos índices dos arrays precisamos ter então **listas em dimensões diferentes (arrays 2D)**. \n",
    "\n",
    "Vamos posicionar nossas linhas em uma lista vertical de linhas (tudo em uma única coluna):"
   ]
  },
  {
   "cell_type": "code",
   "execution_count": 6,
   "metadata": {},
   "outputs": [
    {
     "name": "stdout",
     "output_type": "stream",
     "text": [
      "[[0]\n",
      " [2]\n",
      " [3]]\n"
     ]
    }
   ],
   "source": [
    "linhas = np.array([[0,2,3]]).T # Cria tudo na mesma linha e já transpõe antes de armazenar\n",
    "print(linhas)"
   ]
  },
  {
   "cell_type": "markdown",
   "metadata": {},
   "source": [
    "Enquanto nossas colunas de interesse serão armazenadas em um array horizontal de colunas (tudo em única linha):"
   ]
  },
  {
   "cell_type": "code",
   "execution_count": 7,
   "metadata": {},
   "outputs": [
    {
     "name": "stdout",
     "output_type": "stream",
     "text": [
      "[[1 3]]\n"
     ]
    }
   ],
   "source": [
    "colunas = np.array([[1,3]])\n",
    "print(colunas)"
   ]
  },
  {
   "cell_type": "markdown",
   "metadata": {},
   "source": [
    "Dessa forma, quando passarmos as variáveis `linhas` e `colunas` como índices do nosso array, cada linha de `linhas` será combinada com todas as colunas `colunas` (que só tem uma linha). Com isso conseguimos acessar apenas elementos que combinam a linha `x` com a coluna `y`:"
   ]
  },
  {
   "cell_type": "code",
   "execution_count": 8,
   "metadata": {},
   "outputs": [
    {
     "name": "stdout",
     "output_type": "stream",
     "text": [
      "[[ 1  3]\n",
      " [21 23]\n",
      " [31 33]]\n"
     ]
    }
   ],
   "source": [
    "print(a[linhas, colunas])"
   ]
  },
  {
   "cell_type": "markdown",
   "metadata": {},
   "source": [
    "Ok, funciona! Extraímos apenas os elementos solicitados de `a`.\n",
    "\n",
    "A resposta obviamente tem o número de linhas e colunas solicitado anteriormente, dessa forma podemos substituir essa parte da matriz `a` por uma matriz do tamanho dessa seção, como por exemplo:"
   ]
  },
  {
   "cell_type": "code",
   "execution_count": 9,
   "metadata": {},
   "outputs": [
    {
     "name": "stdout",
     "output_type": "stream",
     "text": [
      "[[   0   -1    2   -3]\n",
      " [  10   11   12   13]\n",
      " [  20 -221   22 -223]\n",
      " [  30 -331   32 -333]]\n"
     ]
    }
   ],
   "source": [
    "a[linhas, colunas] = np.array([[-1,-3],\n",
    "                               [-221,-223],\n",
    "                               [-331,-333]])\n",
    "\n",
    "print(a)"
   ]
  },
  {
   "cell_type": "markdown",
   "metadata": {},
   "source": [
    "Podemos ver que toda a linha 1 e as colunas 0 e 2 mantem seus valores originais, enquanto os demais são os definidos no código anterior."
   ]
  },
  {
   "cell_type": "code",
   "execution_count": null,
   "metadata": {},
   "outputs": [],
   "source": []
  }
 ],
 "metadata": {
  "kernelspec": {
   "display_name": "Python 3",
   "language": "python",
   "name": "python3"
  },
  "language_info": {
   "codemirror_mode": {
    "name": "ipython",
    "version": 3
   },
   "file_extension": ".py",
   "mimetype": "text/x-python",
   "name": "python",
   "nbconvert_exporter": "python",
   "pygments_lexer": "ipython3",
   "version": "3.7.9"
  }
 },
 "nbformat": 4,
 "nbformat_minor": 4
}
